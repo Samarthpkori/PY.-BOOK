{
 "cells": [
  {
   "attachments": {},
   "cell_type": "markdown",
   "metadata": {},
   "source": [
    "PROGRAMS"
   ]
  },
  {
   "cell_type": "code",
   "execution_count": 1,
   "metadata": {},
   "outputs": [
    {
     "name": "stdout",
     "output_type": "stream",
     "text": [
      "1\n",
      "2\n",
      "3\n"
     ]
    }
   ],
   "source": [
    "def myfun(*args):\n",
    "    for arg in args:\n",
    "        print(arg)\n",
    "\n",
    "myfun(\"1\",\"2\",\"3\")"
   ]
  },
  {
   "cell_type": "code",
   "execution_count": 3,
   "metadata": {},
   "outputs": [
    {
     "name": "stdout",
     "output_type": "stream",
     "text": [
      "first==1\n",
      "second==2\n",
      "third==3\n"
     ]
    }
   ],
   "source": [
    "def myfun(**args):\n",
    "    for key,value in args.items():\n",
    "        print(\"%s==%s\"%(key,value))\n",
    "\n",
    "myfun(first=\"1\",second=\"2\",third=\"3\")"
   ]
  },
  {
   "cell_type": "code",
   "execution_count": 9,
   "metadata": {},
   "outputs": [
    {
     "name": "stdout",
     "output_type": "stream",
     "text": [
      "BE MY FRIEND\n"
     ]
    }
   ],
   "source": [
    "def f1():\n",
    "    s='BE MY FRIEND'\n",
    "    def f2():\n",
    "        print(s)\n",
    "    f2()\n",
    "f1()"
   ]
  },
  {
   "cell_type": "code",
   "execution_count": 11,
   "metadata": {},
   "outputs": [
    {
     "name": "stdout",
     "output_type": "stream",
     "text": [
      "hello\n"
     ]
    }
   ],
   "source": [
    "def f():\n",
    "    print(s)\n",
    "\n",
    "f()\n",
    "s=\"hello\""
   ]
  },
  {
   "cell_type": "code",
   "execution_count": 14,
   "metadata": {},
   "outputs": [
    {
     "name": "stdout",
     "output_type": "stream",
     "text": [
      "encloding scope\n",
      "local scope\n"
     ]
    }
   ],
   "source": [
    "x='\\n global'\n",
    "def outerfunction():\n",
    "    x=\"encloding scope\"\n",
    "    print(x)\n",
    "    def innerfunction():\n",
    "        x=\"local scope\"\n",
    "        print(x)\n",
    "\n",
    "    innerfunction()\n",
    "\n",
    "outerfunction()"
   ]
  },
  {
   "cell_type": "code",
   "execution_count": null,
   "metadata": {},
   "outputs": [],
   "source": [
    "import builtins\n",
    "builtins.abs"
   ]
  },
  {
   "cell_type": "code",
   "execution_count": 3,
   "metadata": {},
   "outputs": [
    {
     "name": "stdout",
     "output_type": "stream",
     "text": [
      "using__doc__\n",
      "demonstrate triple double quote\n",
      "    docsstrings and nothing really\n",
      "using help:\n",
      "<function my_function at 0x00000251AD123700>\n",
      "using__doc__ <built-in function sum>\n",
      "<function myfunction at 0x00000251AD123310>\n"
     ]
    }
   ],
   "source": [
    "def my_function():\n",
    "    '''demonstrate triple double quote\n",
    "    docsstrings and nothing really'''\n",
    "    return None\n",
    "\n",
    "print(\"using__doc__\")\n",
    "print(my_function.__doc__)\n",
    "\n",
    "print(\"using help:\")\n",
    "print(my_function)\n",
    "\n",
    "def myfunction():\n",
    "    a=23\n",
    "    b=34\n",
    "    sum=a+b\n",
    "    return sum\n",
    "\n",
    "print(\"using__doc__\",sum)\n",
    "print(myfunction)\n",
    "\n"
   ]
  },
  {
   "cell_type": "code",
   "execution_count": null,
   "metadata": {},
   "outputs": [],
   "source": [
    "def cube(y):\n",
    "    return y*y*y\n",
    "lambda_cube = lambda y: y*y*y\n",
    "# using function defined\n",
    "# using def keyword\n",
    "print(\"Using function defined with `def` keyword, cube:\", cube(5))\n",
    "# using the lambda function\n",
    "print(\"Using lambda function, cube:\", lambda_cube(5))"
   ]
  },
  {
   "cell_type": "code",
   "execution_count": 10,
   "metadata": {},
   "outputs": [
    {
     "name": "stdout",
     "output_type": "stream",
     "text": [
      "Int formatting: 1.000000e+06\n",
      "float formatting: 1.000000e+01\n"
     ]
    }
   ],
   "source": [
    "format_numeric = lambda num: f\"{num:e}\" if isinstance(num, int) else f\"{num:,.2f}\"\n",
    "\n",
    "print(\"Int formatting:\", format_numeric(1000000))\n",
    "print(\"float formatting:\", format_numeric(10))\n"
   ]
  },
  {
   "cell_type": "code",
   "execution_count": 14,
   "metadata": {},
   "outputs": [
    {
     "name": "stdout",
     "output_type": "stream",
     "text": [
      "\n"
     ]
    },
    {
     "data": {
      "text/plain": [
       "('samarth', 567, 'bca')"
      ]
     },
     "execution_count": 14,
     "metadata": {},
     "output_type": "execute_result"
    }
   ],
   "source": [
    "file=open(\"samarth.txt\",\"+a\")\n",
    "\n",
    "\n",
    "print(file.read())\n",
    "\n",
    "\n",
    "(str(input(\"enter name : \")),\n",
    "        int(input(\"enter the reg number : \")),\n",
    "        str(input(\"enter the course : \")))\n"
   ]
  },
  {
   "cell_type": "code",
   "execution_count": 4,
   "metadata": {},
   "outputs": [
    {
     "data": {
      "text/plain": [
       "'alpha'"
      ]
     },
     "execution_count": 4,
     "metadata": {},
     "output_type": "execute_result"
    }
   ],
   "source": [
    "my_tuple=(\"alpha\",\"beta\",\"gamma\")\n",
    "myit=iter(my_tuple)\n",
    "((myit))\n",
    "((myit))\n",
    "(next(myit))"
   ]
  },
  {
   "cell_type": "code",
   "execution_count": 3,
   "metadata": {},
   "outputs": [
    {
     "name": "stdout",
     "output_type": "stream",
     "text": [
      "h\n",
      "e\n",
      "l\n",
      "l\n",
      "o\n"
     ]
    }
   ],
   "source": [
    "my_string=\"hello\"\n",
    "\n",
    "myit=iter(my_string)\n",
    "\n",
    "for i in myit:\n",
    "    print(i)\n",
    "\n",
    "\n"
   ]
  },
  {
   "cell_type": "code",
   "execution_count": 2,
   "metadata": {},
   "outputs": [],
   "source": [
    "def simplegeneratorfun(): \n",
    "    yield 1\n",
    "    yield 2\n",
    "    yield 3\n",
    "    x=simplegeneratorfun()\n",
    "    print(x.next)"
   ]
  },
  {
   "cell_type": "code",
   "execution_count": 1,
   "metadata": {},
   "outputs": [
    {
     "name": "stdout",
     "output_type": "stream",
     "text": [
      "0\n"
     ]
    }
   ],
   "source": [
    "fruits=[\"grapes\"]\n",
    "print(fruits[0].find(\"g\"))"
   ]
  },
  {
   "cell_type": "code",
   "execution_count": 13,
   "metadata": {},
   "outputs": [
    {
     "name": "stdout",
     "output_type": "stream",
     "text": [
      "value :  1,portal :  5.3\n",
      "total students :240,boys :120\n",
      "    031\n",
      " 3.561e+02\n"
     ]
    }
   ],
   "source": [
    "print(\"value : %2d,portal :%5.1f\"%(1,05.333))\n",
    "print(\"total students :%3d,boys :%3d\"%(240,120))\n",
    "print(\"%7.3o\"%(25))\n",
    "print(\"%10.3e\"%(356.08977))"
   ]
  },
  {
   "attachments": {},
   "cell_type": "markdown",
   "metadata": {},
   "source": [
    "TRY AND EXCEPT"
   ]
  },
  {
   "cell_type": "code",
   "execution_count": 2,
   "metadata": {},
   "outputs": [
    {
     "name": "stdout",
     "output_type": "stream",
     "text": [
      "Sorry ! You are dividing by zero \n"
     ]
    }
   ],
   "source": [
    "\n",
    "def divide(x, y):\n",
    "\ttry:\n",
    "\t\tresult = x // y\n",
    "\t\tprint(\"Yeah ! Your answer is :\", result)\n",
    "\texcept ZeroDivisionError:\n",
    "\t\tprint(\"Sorry ! You are dividing by zero \")\n",
    "\n",
    "divide(3, 0)\n"
   ]
  },
  {
   "cell_type": "code",
   "execution_count": 14,
   "metadata": {},
   "outputs": [
    {
     "name": "stdout",
     "output_type": "stream",
     "text": [
      "Second element = 3\n"
     ]
    }
   ],
   "source": [
    "a = [1, 2, 3]\n",
    "try: \n",
    "    print (\"Second element = %d\" %(a[2]))\n",
    "    print (\"thrid element= %d\" %(a[2]))\n",
    "except:\n",
    "    print (\"An error occurred\")\n"
   ]
  },
  {
   "cell_type": "code",
   "execution_count": 70,
   "metadata": {},
   "outputs": [
    {
     "name": "stdout",
     "output_type": "stream",
     "text": [
      "Exception raised\n",
      "\n"
     ]
    }
   ],
   "source": [
    "def  func():\n",
    "    try:\n",
    "        file_handling=open(\"a.csv\",\"w\")\n",
    "        file_handling.read(\"hello python\")\n",
    "\n",
    "    except:\n",
    "        print(\"Exception raised\")\n",
    "    finally:\n",
    "        print()\n",
    "        file_handling.close()\n",
    "func()"
   ]
  },
  {
   "cell_type": "code",
   "execution_count": 39,
   "metadata": {},
   "outputs": [],
   "source": [
    "def func():\n",
    "\n",
    "    try:\n",
    "        file_handling=open(\"a.txt\",\"w\")\n",
    "        file_handling.write(\"hi samarth\")\n",
    "    except:\n",
    "        print(\"not vaild\")\n",
    "func()"
   ]
  },
  {
   "cell_type": "code",
   "execution_count": null,
   "metadata": {},
   "outputs": [
    {
     "name": "stdout",
     "output_type": "stream",
     "text": [
      "[9, 11, 26, 28]\n"
     ]
    }
   ],
   "source": [
    "def intersection(lst1, lst2):\n",
    "    lst3 = [value for value in lst1 if value in lst2]\n",
    "    return lst3\n",
    "\n",
    "# Driver Code\n",
    "lst1 = [4, 9, 1, 17, 11, 26, 28, 54, 69]\n",
    "lst2 = [9, 9, 74, 21, 45, 11, 63, 28, 26]\n",
    "print(intersection(lst1, lst2))"
   ]
  },
  {
   "cell_type": "code",
   "execution_count": 1,
   "metadata": {},
   "outputs": [],
   "source": [
    "\n",
    "class truck:\n",
    "    seat=2\n",
    "    tyre=6\n",
    "    fuel=\"D\"\n",
    "    carrier=\"goods\"\n",
    "    fuelstatus=True\n",
    "\n",
    "    def drive(self):\n",
    "        if self.fuelstatus==True:\n",
    "            print(\"you can drive\")\n",
    "        else:\n",
    "            print(\"you can't drive\")\n",
    "\n",
    "    def __init__(self,seat,tyre):\n",
    "        self.seat=seat\n",
    "        self.tyre=tyre\n",
    "        \n",
    "\n",
    "\n"
   ]
  },
  {
   "attachments": {},
   "cell_type": "markdown",
   "metadata": {},
   "source": [
    "CREATE STUDENT CLASS"
   ]
  },
  {
   "cell_type": "code",
   "execution_count": 1,
   "metadata": {},
   "outputs": [
    {
     "name": "stdout",
     "output_type": "stream",
     "text": [
      "fail\n"
     ]
    }
   ],
   "source": [
    "class stud:\n",
    "    name=\"\"\n",
    "    roll_no=\"\"\n",
    "    m1=70\n",
    "    m2=80\n",
    "    m3=90\n",
    "\n",
    "    def marks(self):\n",
    "        if (self.m1<=35):\n",
    "            print(\" pass\")\n",
    "        else:\n",
    "            print(\"fail\")\n",
    "\n",
    "\n",
    "    def __init__(self,name,roll_no,m1,m2,m3):\n",
    "        self.name=name\n",
    "        self.roll_no=roll_no\n",
    "        self.m1=m1\n",
    "        self.m2=m2\n",
    "        self.m3=m3\n",
    "\n",
    "\n",
    "obj=stud(\"samarth\",390,70,80,90)\n",
    "obj.marks()\n",
    "\n"
   ]
  },
  {
   "cell_type": "code",
   "execution_count": 1,
   "metadata": {},
   "outputs": [
    {
     "name": "stdout",
     "output_type": "stream",
     "text": [
      "(4, 2, 'SUPRA', 'DIESEL', 5000)\n"
     ]
    }
   ],
   "source": [
    "class car:\n",
    "    wheels=4\n",
    "    sittingcapacity=2\n",
    "    nameofthecar=\"\"\n",
    "    fueltype=\"\"\n",
    "    cc=\"\"\n",
    "\n",
    "    def _init_(self,wheels,sittingcapacity,nameofthecar,fueltype,cc):\n",
    "        self.wheels=wheels\n",
    "        self.sittingcapacity=sittingcapacity\n",
    "        self.nameofthecar=nameofthecar\n",
    "        self.fueltype=fueltype\n",
    "        self.cc=cc\n",
    "\n",
    "    def cardetails(self):\n",
    "        print(\"CAR DETAIS\",self.wheels,self.sittingcapacity,self.nameofthecar,self.fueltype,self.fueltype,self.cc)\n",
    "\n",
    "obj=(4,2,\"SUPRA\",\"DIESEL\",5000)\n",
    "print(obj)"
   ]
  },
  {
   "cell_type": "code",
   "execution_count": 3,
   "metadata": {},
   "outputs": [
    {
     "name": "stdout",
     "output_type": "stream",
     "text": [
      "Calling protected member of base class:  2\n",
      "Calling modified protected member outside class:  3\n",
      "Accessing protected member of obj1:  3\n",
      "Accessing protected member of obj2:  2\n"
     ]
    }
   ],
   "source": [
    "\n",
    "# Creating a base class\n",
    "class Base:\n",
    "\tdef __init__(self):\n",
    "\n",
    "\t\tself._a = 2\n",
    "\n",
    "class Derived(Base):\n",
    "\tdef __init__(self):\n",
    "\n",
    "\t\tBase.__init__(self)\n",
    "\t\t\n",
    "\n",
    "\t\tself._a = 3\n",
    "\t\tprint(\"Calling modified protected member outside class: \",\n",
    "\t\t\tself._a)\n",
    "\n",
    "\n",
    "obj1 = Derived()\n",
    "\n",
    "obj2 = Base()\n",
    "\n",
    "print(\"Accessing protected member of obj1: \", obj1._a)\n",
    "\n",
    "print(\"Accessing protected member of obj2: \", obj2._a)\n"
   ]
  },
  {
   "cell_type": "code",
   "execution_count": 10,
   "metadata": {},
   "outputs": [
    {
     "ename": "AttributeError",
     "evalue": "'child' object has no attribute '__c'",
     "output_type": "error",
     "traceback": [
      "\u001b[1;31m---------------------------------------------------------------------------\u001b[0m",
      "\u001b[1;31mAttributeError\u001b[0m                            Traceback (most recent call last)",
      "\u001b[1;32m~\\AppData\\Local\\Temp\\ipykernel_10360\\2892094255.py\u001b[0m in \u001b[0;36m<module>\u001b[1;34m\u001b[0m\n\u001b[0;32m     16\u001b[0m \u001b[1;33m\u001b[0m\u001b[0m\n\u001b[0;32m     17\u001b[0m \u001b[0mobj1\u001b[0m\u001b[1;33m=\u001b[0m\u001b[0mchild\u001b[0m\u001b[1;33m(\u001b[0m\u001b[1;33m)\u001b[0m\u001b[1;33m\u001b[0m\u001b[1;33m\u001b[0m\u001b[0m\n\u001b[1;32m---> 18\u001b[1;33m \u001b[0mprint\u001b[0m\u001b[1;33m(\u001b[0m\u001b[0mobj1\u001b[0m\u001b[1;33m.\u001b[0m\u001b[0m__c\u001b[0m\u001b[1;33m)\u001b[0m\u001b[1;33m\u001b[0m\u001b[1;33m\u001b[0m\u001b[0m\n\u001b[0m",
      "\u001b[1;31mAttributeError\u001b[0m: 'child' object has no attribute '__c'"
     ]
    }
   ],
   "source": [
    "class Parent:\n",
    "    a=0\n",
    "    b=0\n",
    "    __c=0\n",
    "\n",
    "    def __init__(self):\n",
    "        self.a=\"python\"\n",
    "        self.b=\"c program\"\n",
    "        self.__c=\"java\"\n",
    "\n",
    "class child(Parent):\n",
    "    \n",
    "    def ___init__(self):\n",
    "        Parent.__init__(self)\n",
    "        print(self.__c)\n",
    "\n",
    "obj1=child()\n",
    "print(obj1.__c)\n"
   ]
  },
  {
   "attachments": {},
   "cell_type": "markdown",
   "metadata": {},
   "source": [
    "INHERTANCE"
   ]
  },
  {
   "cell_type": "code",
   "execution_count": 22,
   "metadata": {},
   "outputs": [
    {
     "name": "stdout",
     "output_type": "stream",
     "text": [
      "sum= 30\n"
     ]
    }
   ],
   "source": [
    "class base:\n",
    "    a=10\n",
    "\n",
    "class derive(base):\n",
    "    b=20\n",
    "    def add(self):\n",
    "        c=self.a+self.b\n",
    "        print(\"sum=\",c)\n",
    "\n",
    "obj1=derive()\n",
    "obj1.add()"
   ]
  },
  {
   "attachments": {},
   "cell_type": "markdown",
   "metadata": {},
   "source": [
    "PASS"
   ]
  },
  {
   "cell_type": "code",
   "execution_count": 1,
   "metadata": {},
   "outputs": [
    {
     "name": "stdout",
     "output_type": "stream",
     "text": [
      "40 is greater\n"
     ]
    }
   ],
   "source": [
    "class pass_class():\n",
    "    def pass_func(self):\n",
    "\n",
    "        if 20>10:\n",
    "            print(\"40 is greater\")\n",
    "        else:\n",
    "            print(\"20 is smaller\")\n",
    "obj1=pass_class()\n",
    "\n",
    "obj1.pass_func()"
   ]
  },
  {
   "cell_type": "code",
   "execution_count": 26,
   "metadata": {},
   "outputs": [
    {
     "data": {
      "text/plain": [
       "<bound method pentagon.sides of <__main__.pentagon object at 0x000002A71F6A7640>>"
      ]
     },
     "execution_count": 26,
     "metadata": {},
     "output_type": "execute_result"
    }
   ],
   "source": [
    "from abc import ABC,abstractmethod\n",
    "\n",
    "class polygon(ABC):\n",
    "\n",
    "    @abstractmethod\n",
    "    def sides(self):\n",
    "        pass\n",
    "\n",
    "class triangle(polygon):\n",
    "\n",
    "    def noof_sides(self):\n",
    "        print(\"triangle has 3 sides\")\n",
    "\n",
    "class pentagon(polygon):\n",
    "\n",
    "    def noof_sides(self):\n",
    "        print(\"pentagon has 5 sides\")\n",
    "\n",
    "obj1=triangle()\n",
    "obj1.sides\n",
    "obj2=pentagon()\n",
    "obj2.sides\n",
    "\n"
   ]
  },
  {
   "attachments": {},
   "cell_type": "markdown",
   "metadata": {},
   "source": [
    "STATISTICS MEAN"
   ]
  },
  {
   "cell_type": "code",
   "execution_count": 5,
   "metadata": {},
   "outputs": [
    {
     "data": {
      "text/plain": [
       "2.5"
      ]
     },
     "execution_count": 5,
     "metadata": {},
     "output_type": "execute_result"
    }
   ],
   "source": [
    "import statistics as st\n",
    "\n",
    "list=[1,2,3,4]\n",
    "\n",
    "st.mean(list)\n"
   ]
  },
  {
   "attachments": {},
   "cell_type": "markdown",
   "metadata": {},
   "source": [
    "STATISTICS MEDIAN"
   ]
  },
  {
   "cell_type": "code",
   "execution_count": 9,
   "metadata": {},
   "outputs": [
    {
     "data": {
      "text/plain": [
       "2.5"
      ]
     },
     "execution_count": 9,
     "metadata": {},
     "output_type": "execute_result"
    }
   ],
   "source": [
    "import statistics as st\n",
    "\n",
    "list=[2,2,3,3]\n",
    "\n",
    "st.median(list)"
   ]
  },
  {
   "attachments": {},
   "cell_type": "markdown",
   "metadata": {},
   "source": [
    "STATISTICS MODE"
   ]
  },
  {
   "cell_type": "code",
   "execution_count": 10,
   "metadata": {},
   "outputs": [
    {
     "data": {
      "text/plain": [
       "3"
      ]
     },
     "execution_count": 10,
     "metadata": {},
     "output_type": "execute_result"
    }
   ],
   "source": [
    "import statistics as st\n",
    "\n",
    "list=[1,2,3,4,5,6,7,7,3]\n",
    "\n",
    "st.mode(list)"
   ]
  },
  {
   "attachments": {},
   "cell_type": "markdown",
   "metadata": {},
   "source": [
    "DATA EXTRACTING FROM CSV FILE BY STATISTICS PROGRAM"
   ]
  },
  {
   "cell_type": "code",
   "execution_count": 2,
   "metadata": {},
   "outputs": [
    {
     "name": "stdout",
     "output_type": "stream",
     "text": [
      "['ï»¿name', 'marks']\n",
      "['joel', '45']\n",
      "['samarth', '56']\n"
     ]
    }
   ],
   "source": [
    "import statistics as jo\n",
    "import csv\n",
    "\n",
    "with open(\"C:/Users/User5/OneDrive/Desktop/csv.file/Book1.csv\",\"r\") as file :\n",
    "    data=csv.reader(file)\n",
    "    for line in data:\n",
    "        print(line)\n",
    "\n",
    "    "
   ]
  },
  {
   "cell_type": "code",
   "execution_count": 14,
   "metadata": {},
   "outputs": [
    {
     "name": "stdout",
     "output_type": "stream",
     "text": [
      "1.9148542155126762\n"
     ]
    }
   ],
   "source": [
    "import math\n",
    "print(math.sqrt(22/6))"
   ]
  },
  {
   "attachments": {},
   "cell_type": "markdown",
   "metadata": {},
   "source": [
    "CREATE 5 CLASSES OF ENGINEERS WITH THEIR  ATTRIBUTES USING INHERITANCE"
   ]
  },
  {
   "cell_type": "code",
   "execution_count": 3,
   "metadata": {},
   "outputs": [
    {
     "name": "stdout",
     "output_type": "stream",
     "text": [
      "samarth is a civil engineer with 5 years of experience and 20 is the age\n",
      "gourav is a mec engineer with 6 years of experience and 20 is the age\n",
      "shankar is a ec_engineer with 4 years of experience and 21 is the age.\n",
      "vinayak is a cs_engineer with 5 years of experience and 23 is the age\n",
      "chandrakant is a arc_engineer with 8 years of experience and 26 is the age\n"
     ]
    }
   ],
   "source": [
    "class engineer:\n",
    "    def __init__(self,name,age,experience):\n",
    "        self.name=name\n",
    "        self.age=age\n",
    "        self.experience=experience\n",
    "\n",
    "    def job_description(self):\n",
    "        pass\n",
    "        \n",
    "class civil_engineer(engineer):\n",
    "    def __init__(self, name, age, experience):\n",
    "        super().__init__(name, age, experience)\n",
    "        self.experience=experience\n",
    "\n",
    "    def job_description(self):\n",
    "        return f\"{self.name} is a civil engineer with {self.experience} years of experience and {self.age} is the age\"\n",
    "    \n",
    "class mec_engineer(engineer):\n",
    "    def __init__(self, name, age, experience):\n",
    "        super().__init__(name, age, experience)\n",
    "        self.experience=experience\n",
    "\n",
    "    def job_description(self):\n",
    "        return f\"{self.name} is a mec engineer with {self.experience} years of experience and {self.age} is the age\"\n",
    "        \n",
    "class ec_engineer(engineer):\n",
    "    def __init__(self, name, age, experience):\n",
    "        super().__init__(name, age, experience)\n",
    "        self.experience=experience\n",
    "\n",
    "    def job_description(self):\n",
    "        return f\"{self.name} is a ec_engineer with {self.experience} years of experience and {self.age} is the age.\"\n",
    "\n",
    "class  cs_engineer(engineer):\n",
    "    def __init__(self, name, age, experience):\n",
    "        super().__init__(name, age, experience)\n",
    "        self.experience=experience\n",
    "\n",
    "    def job_description(self):\n",
    "        return f\"{self.name} is a cs_engineer with {self.experience} years of experience and {self.age} is the age\"\n",
    "    \n",
    "class arc_engineer(engineer):\n",
    "    def __init__(self, name, age, experience):\n",
    "        super().__init__(name, age, experience)\n",
    "        self.experience=experience\n",
    "    \n",
    "    def job_description(self):\n",
    "        return f\"{self.name} is a arc_engineer with {self.experience} years of experience and {self.age} is the age\"\n",
    "    \n",
    "\n",
    "obj=civil_engineer(\"samarth\",20,5)\n",
    "print(obj.job_description())\n",
    "\n",
    "obj=mec_engineer(\"gourav\",20,6)\n",
    "print(obj.job_description())\n",
    "\n",
    "obj=ec_engineer(\"shankar\",21,4)\n",
    "print(obj.job_description())\n",
    "\n",
    "obj=cs_engineer(\"vinayak\",23,5)\n",
    "print(obj.job_description())\n",
    "\n",
    "obj=arc_engineer(\"chandrakant\",26,8)\n",
    "print(obj.job_description())"
   ]
  },
  {
   "cell_type": "code",
   "execution_count": 2,
   "metadata": {},
   "outputs": [
    {
     "name": "stderr",
     "output_type": "stream",
     "text": [
      "C:\\Users\\User5\\AppData\\Local\\Temp\\ipykernel_12516\\1300073550.py:15: MatplotlibDeprecationWarning: The 'use_line_collection' parameter of stem() was deprecated in Matplotlib 3.6 and will be removed two minor releases later. If any parameter follows 'use_line_collection', they should be passed as keyword, not positionally.\n",
      "  plt.stem(k, x, use_line_collection=True)\n"
     ]
    },
    {
     "data": {
      "text/plain": [
       "<StemContainer object of 3 artists>"
      ]
     },
     "execution_count": 2,
     "metadata": {},
     "output_type": "execute_result"
    },
    {
     "data": {
      "image/png": "[encoded data removed]",
      "text/plain": [
       "<Figure size 640x480 with 1 Axes>"
      ]
     },
     "metadata": {},
     "output_type": "display_data"
    }
   ],
   "source": [
    "import numpy as np\n",
    "import scipy as sp\n",
    "import matplotlib.pyplot as plt\n",
    "\n",
    "%matplotlib inline\n",
    "\n",
    "# In [2]:\n",
    "# A toy example shows how a sequence of samples from\n",
    "# a time domain is mapped into a frequency domain using\n",
    "# a Discrete Fourier Transformation.\n",
    "\n",
    "k = np.arange(0,8)\n",
    "x = np.cos(2*k*np.pi/4) \n",
    "\n",
    "plt.stem(k, x, use_line_collection=True)\n"
   ]
  }
 ],
 "metadata": {
  "kernelspec": {
   "display_name": "base",
   "language": "python",
   "name": "python3"
  },
  "language_info": {
   "codemirror_mode": {
    "name": "ipython",
    "version": 3
   },
   "file_extension": ".py",
   "mimetype": "text/x-python",
   "name": "python",
   "nbconvert_exporter": "python",
   "pygments_lexer": "ipython3",
   "version": "3.11.2"
  },
  "orig_nbformat": 4
 },
 "nbformat": 4,
 "nbformat_minor": 2
}
