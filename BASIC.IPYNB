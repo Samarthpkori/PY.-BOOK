{
 "cells": [
  {
   "attachments": {},
   "cell_type": "markdown",
   "metadata": {},
   "source": [
    "CREATE 5 CLASSES OF ENGINEERS WITH THEIR  ATTRIBUTES USING INHERITANCE"
   ]
  },
  {
   "cell_type": "code",
   "execution_count": 1,
   "metadata": {},
   "outputs": [
    {
     "name": "stdout",
     "output_type": "stream",
     "text": [
      "samarth is a civil engineer with 5 years of experience and 20 is the age\n",
      "gourav is a mec engineer with 6 years of experience and 20 is the age\n",
      "shankar is a civil engineer with 4 years of experience and 21 is the age.\n",
      "vinayak is a civil engineer with 5 years of experience and 23 is the age\n",
      "chandrakant is a civil engineer with 8 years of experience and 26 is the age\n"
     ]
    }
   ],
   "source": [
    "class engineer:\n",
    "    def __init__(self,name,age,experience):\n",
    "        self.name=name\n",
    "        self.age=age\n",
    "        self.experience=experience\n",
    "\n",
    "    def job_description(self):\n",
    "        pass\n",
    "        \n",
    "class civil_engineer(engineer):\n",
    "    def __init__(self, name, age, experience):\n",
    "        super().__init__(name, age, experience)\n",
    "        self.experience=experience\n",
    "\n",
    "    def job_description(self):\n",
    "        return f\"{self.name} is a civil engineer with {self.experience} years of experience and {self.age} is the age\"\n",
    "    \n",
    "class mec_engineer(engineer):\n",
    "    def __init__(self, name, age, experience):\n",
    "        super().__init__(name, age, experience)\n",
    "        self.experience=experience\n",
    "\n",
    "    def job_description(self):\n",
    "        return f\"{self.name} is a mec engineer with {self.experience} years of experience and {self.age} is the age\"\n",
    "        \n",
    "class ec_engineer(engineer):\n",
    "    def __init__(self, name, age, experience):\n",
    "        super().__init__(name, age, experience)\n",
    "        self.experience=experience\n",
    "\n",
    "    def job_description(self):\n",
    "        return f\"{self.name} is a civil engineer with {self.experience} years of experience and {self.age} is the age.\"\n",
    "\n",
    "class  cs_engineer(engineer):\n",
    "    def __init__(self, name, age, experience):\n",
    "        super().__init__(name, age, experience)\n",
    "        self.experience=experience\n",
    "\n",
    "    def job_description(self):\n",
    "        return f\"{self.name} is a civil engineer with {self.experience} years of experience and {self.age} is the age\"\n",
    "    \n",
    "class arc_engineer(engineer):\n",
    "    def __init__(self, name, age, experience):\n",
    "        super().__init__(name, age, experience)\n",
    "        self.experience=experience\n",
    "    \n",
    "    def job_description(self):\n",
    "        return f\"{self.name} is a civil engineer with {self.experience} years of experience and {self.age} is the age\"\n",
    "    \n",
    "\n",
    "obj=civil_engineer(\"samarth\",20,5)\n",
    "print(obj.job_description())\n",
    "\n",
    "obj=mec_engineer(\"gourav\",20,6)\n",
    "print(obj.job_description())\n",
    "\n",
    "obj=ec_engineer(\"shankar\",21,4)\n",
    "print(obj.job_description())\n",
    "\n",
    "obj=cs_engineer(\"vinayak\",23,5)\n",
    "print(obj.job_description())\n",
    "\n",
    "obj=arc_engineer(\"chandrakant\",26,8)\n",
    "print(obj.job_description())"
   ]
  }
 ],
 "metadata": {
  "kernelspec": {
   "display_name": "Python 3",
   "language": "python",
   "name": "python3"
  },
  "language_info": {
   "codemirror_mode": {
    "name": "ipython",
    "version": 3
   },
   "file_extension": ".py",
   "mimetype": "text/x-python",
   "name": "python",
   "nbconvert_exporter": "python",
   "pygments_lexer": "ipython3",
   "version": "3.11.2"
  },
  "orig_nbformat": 4
 },
 "nbformat": 4,
 "nbformat_minor": 2
}
