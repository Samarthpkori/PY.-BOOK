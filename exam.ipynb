{
 "cells": [
  {
   "attachments": {},
   "cell_type": "markdown",
   "metadata": {},
   "source": [
    "1. PROGRAM TO FIND SIMPLE INTEREST"
   ]
  },
  {
   "cell_type": "code",
   "execution_count": 31,
   "metadata": {},
   "outputs": [
    {
     "name": "stdout",
     "output_type": "stream",
     "text": [
      "9000.0\n",
      "the result= 7500 12 10\n"
     ]
    }
   ],
   "source": [
    "p=int(input(\"enter the value of principle\"))   #7,500 given amount in q\n",
    "t=int(input(\"enter the value of time\"))              \n",
    "r=int(input(\"enter the value of rate of interest\"))             #user input in program\n",
    "\n",
    "def math(p,t,r):                \n",
    "    simple_interest=(p*t*r)/100               #calculating the simple\n",
    "    return simple_interest                    #returning the simple intereset\n",
    "\n",
    "ans=math(p,t,r)\n",
    "print(ans)\n",
    "print(\"the result=\",p,t,r)"
   ]
  },
  {
   "attachments": {},
   "cell_type": "markdown",
   "metadata": {},
   "source": [
    "2. PROGRAM TO FIND ODD AND EVEN"
   ]
  },
  {
   "cell_type": "code",
   "execution_count": 7,
   "metadata": {},
   "outputs": [
    {
     "name": "stdout",
     "output_type": "stream",
     "text": [
      "the number is even\n",
      "None\n"
     ]
    }
   ],
   "source": [
    "n=int(input(\"enter the value of number\"))\n",
    "\n",
    "def function(n):\n",
    "    if(n%2==0):\n",
    "        print(\"the number is even\")\n",
    "    else:\n",
    "        print(\"the number is odd\")\n",
    "\n",
    "ans=function(n)\n",
    "print(ans)"
   ]
  },
  {
   "attachments": {},
   "cell_type": "markdown",
   "metadata": {},
   "source": [
    "3. PROGRAM TO FIND LARGEST NUMBER"
   ]
  },
  {
   "cell_type": "code",
   "execution_count": 10,
   "metadata": {},
   "outputs": [
    {
     "name": "stdout",
     "output_type": "stream",
     "text": [
      "c is largest\n"
     ]
    }
   ],
   "source": [
    "a=int(input(\"enter the value of A\"))\n",
    "b=int(input(\"enter the value of B\"))\n",
    "c=int(input(\"enter the value of C\"))\n",
    "\n",
    "if a>c and a>b:\n",
    "    print(\"a is largest\")\n",
    "elif(b>c):\n",
    "    print(\"b is largest\")\n",
    "else:\n",
    "    print(\"c is largest\")"
   ]
  },
  {
   "attachments": {},
   "cell_type": "markdown",
   "metadata": {},
   "source": [
    "4. PROGRAM TO FIND TWO DICTIONARY"
   ]
  },
  {
   "cell_type": "code",
   "execution_count": 22,
   "metadata": {},
   "outputs": [
    {
     "name": "stdout",
     "output_type": "stream",
     "text": [
      "{1: 'hi', 2: 'python'}\n"
     ]
    }
   ],
   "source": [
    "dic1={1:'hi'}\n",
    "dic2={2:'python'}\n",
    "\n",
    "ans=({**dic1,**dic2})\n",
    "print(ans)\n"
   ]
  },
  {
   "attachments": {},
   "cell_type": "markdown",
   "metadata": {},
   "source": [
    "5. PROGRAM TO FIND THE ODD NUMBERS IN LIST"
   ]
  },
  {
   "cell_type": "code",
   "execution_count": 4,
   "metadata": {},
   "outputs": [
    {
     "name": "stdout",
     "output_type": "stream",
     "text": [
      "1\n",
      "5\n",
      "7\n"
     ]
    }
   ],
   "source": [
    "list1 = [1,4,6,5,7]\n",
    "for num in list1:\n",
    "\n",
    "    if num % 2 != 0:\n",
    "        print(num)"
   ]
  }
 ],
 "metadata": {
  "kernelspec": {
   "display_name": "Python 3",
   "language": "python",
   "name": "python3"
  },
  "language_info": {
   "codemirror_mode": {
    "name": "ipython",
    "version": 3
   },
   "file_extension": ".py",
   "mimetype": "text/x-python",
   "name": "python",
   "nbconvert_exporter": "python",
   "pygments_lexer": "ipython3",
   "version": "3.11.2"
  },
  "orig_nbformat": 4
 },
 "nbformat": 4,
 "nbformat_minor": 2
}
