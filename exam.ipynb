{
 "cells": [
  {
   "attachments": {},
   "cell_type": "markdown",
   "metadata": {},
   "source": [
    "1. PROGRAM TO FIND SIMPLE INTEREST"
   ]
  },
  {
   "cell_type": "code",
   "execution_count": 31,
   "metadata": {},
   "outputs": [
    {
     "name": "stdout",
     "output_type": "stream",
     "text": [
      "9000.0\n",
      "the result= 7500 12 10\n"
     ]
    }
   ],
   "source": [
    "p=int(input(\"enter the value of principle\"))   #7,500 given amount in q\n",
    "t=int(input(\"enter the value of time\"))              \n",
    "r=int(input(\"enter the value of rate of interest\"))             #user input in program\n",
    "\n",
    "def math(p,t,r):                \n",
    "    simple_interest=(p*t*r)/100               #calculating the simple\n",
    "    return simple_interest                    #returning the simple intereset\n",
    "\n",
    "ans=math(p,t,r)\n",
    "print(ans)\n",
    "print(\"the result=\",p,t,r)"
   ]
  },
  {
   "attachments": {},
   "cell_type": "markdown",
   "metadata": {},
   "source": [
    "2. PROGRAM TO FIND ODD AND EVEN"
   ]
  },
  {
   "cell_type": "code",
   "execution_count": 7,
   "metadata": {},
   "outputs": [
    {
     "name": "stdout",
     "output_type": "stream",
     "text": [
      "the number is even\n",
      "None\n"
     ]
    }
   ],
   "source": [
    "n=int(input(\"enter the value of number\"))\n",
    "\n",
    "def function(n):\n",
    "    if(n%2==0):\n",
    "        print(\"the number is even\")\n",
    "    else:\n",
    "        print(\"the number is odd\")\n",
    "\n",
    "ans=function(n)\n",
    "print(ans)"
   ]
  },
  {
   "attachments": {},
   "cell_type": "markdown",
   "metadata": {},
   "source": [
    "3. PROGRAM TO FIND LARGEST NUMBER"
   ]
  },
  {
   "cell_type": "code",
   "execution_count": 10,
   "metadata": {},
   "outputs": [
    {
     "name": "stdout",
     "output_type": "stream",
     "text": [
      "c is largest\n"
     ]
    }
   ],
   "source": [
    "a=int(input(\"enter the value of A\"))\n",
    "b=int(input(\"enter the value of B\"))\n",
    "c=int(input(\"enter the value of C\"))\n",
    "\n",
    "if a>c and a>b:\n",
    "    print(\"a is largest\")\n",
    "elif(b>c):\n",
    "    print(\"b is largest\")\n",
    "else:\n",
    "    print(\"c is largest\")"
   ]
  },
  {
   "attachments": {},
   "cell_type": "markdown",
   "metadata": {},
   "source": [
    "4. PROGRAM TO FIND TWO DICTIONARY"
   ]
  },
  {
   "cell_type": "code",
   "execution_count": 22,
   "metadata": {},
   "outputs": [
    {
     "name": "stdout",
     "output_type": "stream",
     "text": [
      "{1: 'hi', 2: 'python'}\n"
     ]
    }
   ],
   "source": [
    "dic1={1:'hi'}\n",
    "dic2={2:'python'}\n",
    "\n",
    "ans=({**dic1,**dic2})\n",
    "print(ans)\n"
   ]
  },
  {
   "attachments": {},
   "cell_type": "markdown",
   "metadata": {},
   "source": [
    "5. PROGRAM TO FIND THE ODD NUMBERS IN LIST"
   ]
  },
  {
   "cell_type": "code",
   "execution_count": 4,
   "metadata": {},
   "outputs": [
    {
     "name": "stdout",
     "output_type": "stream",
     "text": [
      "1\n",
      "5\n",
      "7\n"
     ]
    }
   ],
   "source": [
    "list1 = [1,4,6,5,7]\n",
    "for num in list1:\n",
    "\n",
    "    if num % 2 != 0:\n",
    "        print(num)"
   ]
  },
  {
   "attachments": {},
   "cell_type": "markdown",
   "metadata": {},
   "source": [
    "WRITE A PYTHON AND CREATE A CLASS NAMED EMPLOYEE WITH ATTRIBUTES NAME ,POSITION AND SALARY .WRITE A METHOD TO CALULATE THE ANNUAL SALARY OF THE EMPLOYEE"
   ]
  },
  {
   "cell_type": "code",
   "execution_count": 93,
   "metadata": {},
   "outputs": [
    {
     "name": "stdout",
     "output_type": "stream",
     "text": [
      "('samarth', 'manager', 12000)\n"
     ]
    }
   ],
   "source": [
    "class employee():\n",
    "    name=\"\"\n",
    "    position=\"\"\n",
    "    salary=12000\n",
    "    \n",
    "    def __init__(self,name,position,salary,annual_salary):\n",
    "        self.name=name\n",
    "        self.position=position\n",
    "        self.salary=salary\n",
    "        annual_salary=annual_salary\n",
    "\n",
    "    def emp(self):\n",
    "        print(\"emp\",self.name,self.position,self.salary)\n",
    "\n",
    "obj=(\"samarth\",\"manager\",12000)\n",
    "print(obj)\n"
   ]
  },
  {
   "attachments": {},
   "cell_type": "markdown",
   "metadata": {},
   "source": [
    "WRITE A PROGRAM THAT READS A CSV FILE AND EXTRACTS SPECIFIC COLUMNS FROM IT, ALSO HANDLES A FILE NOT FOUND ERROR AND PRINTS A CUSTOM ERROR MESSAGE "
   ]
  },
  {
   "cell_type": "code",
   "execution_count": 90,
   "metadata": {},
   "outputs": [
    {
     "name": "stdout",
     "output_type": "stream",
     "text": [
      "Anil\n"
     ]
    }
   ],
   "source": [
    "import csv\n",
    "with open(\"C:/Users/User5/OneDrive/Desktop/csv.file/Student list.csv\",\"r\") as file:\n",
    "    data=csv.reader(file)\n",
    "    for line in data:\n",
    "        if line[1]==\"Anil\":\n",
    "            print(line[1])\n",
    "\n",
    "\n",
    "\n",
    "\n",
    "\n",
    "\n",
    "# with open(\"\",\"\") as file:\n",
    "# \ttry:\n",
    "# \t\tprint()\n",
    "\t# except FileNotFoundError:\n",
    "# \t\tprint(\"Sorry ! the file is not found \")\n",
    "\n"
   ]
  },
  {
   "attachments": {},
   "cell_type": "markdown",
   "metadata": {},
   "source": [
    "WRITE A PROGRAM THAT USES A LAMBDA EXPRESSION TO SQUARE EACH ELEMENT IN A LIST"
   ]
  },
  {
   "cell_type": "code",
   "execution_count": 4,
   "metadata": {},
   "outputs": [
    {
     "name": "stdout",
     "output_type": "stream",
     "text": [
      "[1, 4, 9, 16, 25, 36, 49, 64, 81]\n"
     ]
    }
   ],
   "source": [
    "\n",
    "\n",
    "num=[1,2,3,4,5,6,7,8,9]\n",
    "squares=list(map(lambda x : x**2,num))\n",
    "print(squares)"
   ]
  },
  {
   "attachments": {},
   "cell_type": "markdown",
   "metadata": {},
   "source": [
    "WRITE A PROGRAM TO CONSTRUCTING A LIST OF EVEN NUMBERS FROM A LIST OF NUMBERS IN A CSV SHEET USING LIST COMPREHENSION"
   ]
  },
  {
   "cell_type": "code",
   "execution_count": 9,
   "metadata": {},
   "outputs": [
    {
     "ename": "TypeError",
     "evalue": "unsupported operand type(s) for %: 'list' and 'int'",
     "output_type": "error",
     "traceback": [
      "\u001b[1;31m---------------------------------------------------------------------------\u001b[0m",
      "\u001b[1;31mTypeError\u001b[0m                                 Traceback (most recent call last)",
      "\u001b[1;32mc:\\Users\\User5\\OneDrive\\Desktop\\PY. BOOK\\exam.ipynb Cell 18\u001b[0m in \u001b[0;36m5\n\u001b[0;32m      <a href='vscode-notebook-cell:/c%3A/Users/User5/OneDrive/Desktop/PY.%20BOOK/exam.ipynb#X23sZmlsZQ%3D%3D?line=2'>3</a>\u001b[0m data\u001b[39m=\u001b[39mcsv\u001b[39m.\u001b[39mreader(file)\n\u001b[0;32m      <a href='vscode-notebook-cell:/c%3A/Users/User5/OneDrive/Desktop/PY.%20BOOK/exam.ipynb#X23sZmlsZQ%3D%3D?line=3'>4</a>\u001b[0m \u001b[39mfor\u001b[39;00m line \u001b[39min\u001b[39;00m data:\n\u001b[1;32m----> <a href='vscode-notebook-cell:/c%3A/Users/User5/OneDrive/Desktop/PY.%20BOOK/exam.ipynb#X23sZmlsZQ%3D%3D?line=4'>5</a>\u001b[0m     \u001b[39mif\u001b[39;00m line\u001b[39m%\u001b[39;49m\u001b[39m2\u001b[39;49m\u001b[39m==\u001b[39m\u001b[39m0\u001b[39m:\n\u001b[0;32m      <a href='vscode-notebook-cell:/c%3A/Users/User5/OneDrive/Desktop/PY.%20BOOK/exam.ipynb#X23sZmlsZQ%3D%3D?line=5'>6</a>\u001b[0m         \u001b[39mprint\u001b[39m(\u001b[39m\"\u001b[39m\u001b[39meven\u001b[39m\u001b[39m\"\u001b[39m)\n\u001b[0;32m      <a href='vscode-notebook-cell:/c%3A/Users/User5/OneDrive/Desktop/PY.%20BOOK/exam.ipynb#X23sZmlsZQ%3D%3D?line=6'>7</a>\u001b[0m     \u001b[39m# print(line)\u001b[39;00m\n",
      "\u001b[1;31mTypeError\u001b[0m: unsupported operand type(s) for %: 'list' and 'int'"
     ]
    }
   ],
   "source": [
    "import csv \n",
    "with open(\"C:/Users/User5/OneDrive/Desktop/csv.file/EVEN.csv\",\"r\") as file:\n",
    "    data=csv.reader(file)\n",
    "    for line in data:\n",
    "        if n%2==0:\n",
    "            print(\"even\")\n",
    "        # print(line)\n",
    "        \n",
    "        "
   ]
  }
 ],
 "metadata": {
  "kernelspec": {
   "display_name": "Python 3",
   "language": "python",
   "name": "python3"
  },
  "language_info": {
   "codemirror_mode": {
    "name": "ipython",
    "version": 3
   },
   "file_extension": ".py",
   "mimetype": "text/x-python",
   "name": "python",
   "nbconvert_exporter": "python",
   "pygments_lexer": "ipython3",
   "version": "3.11.2"
  },
  "orig_nbformat": 4
 },
 "nbformat": 4,
 "nbformat_minor": 2
}
