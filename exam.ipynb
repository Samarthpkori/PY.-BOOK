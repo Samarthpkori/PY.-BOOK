{
 "cells": [
  {
   "attachments": {},
   "cell_type": "markdown",
   "metadata": {},
   "source": [
    "1. PROGRAM TO FIND SIMPLE INTEREST"
   ]
  },
  {
   "cell_type": "code",
   "execution_count": 31,
   "metadata": {},
   "outputs": [
    {
     "name": "stdout",
     "output_type": "stream",
     "text": [
      "9000.0\n",
      "the result= 7500 12 10\n"
     ]
    }
   ],
   "source": [
    "p=int(input(\"enter the value of principle\"))   #7,500 given amount in q\n",
    "t=int(input(\"enter the value of time\"))              \n",
    "r=int(input(\"enter the value of rate of interest\"))             #user input in program\n",
    "\n",
    "def math(p,t,r):                \n",
    "    simple_interest=(p*t*r)/100               #calculating the simple\n",
    "    return simple_interest                    #returning the simple intereset\n",
    "\n",
    "ans=math(p,t,r)\n",
    "print(ans)\n",
    "print(\"the result=\",p,t,r)"
   ]
  },
  {
   "attachments": {},
   "cell_type": "markdown",
   "metadata": {},
   "source": [
    "2. PROGRAM TO FIND ODD AND EVEN"
   ]
  },
  {
   "cell_type": "code",
   "execution_count": 7,
   "metadata": {},
   "outputs": [
    {
     "name": "stdout",
     "output_type": "stream",
     "text": [
      "the number is even\n",
      "None\n"
     ]
    }
   ],
   "source": [
    "n=int(input(\"enter the value of number\"))\n",
    "\n",
    "def function(n):\n",
    "    if(n%2==0):\n",
    "        print(\"the number is even\")\n",
    "    else:\n",
    "        print(\"the number is odd\")\n",
    "\n",
    "ans=function(n)\n",
    "print(ans)"
   ]
  },
  {
   "attachments": {},
   "cell_type": "markdown",
   "metadata": {},
   "source": [
    "3. PROGRAM TO FIND LARGEST NUMBER"
   ]
  },
  {
   "cell_type": "code",
   "execution_count": 10,
   "metadata": {},
   "outputs": [
    {
     "name": "stdout",
     "output_type": "stream",
     "text": [
      "c is largest\n"
     ]
    }
   ],
   "source": [
    "a=int(input(\"enter the value of A\"))\n",
    "b=int(input(\"enter the value of B\"))\n",
    "c=int(input(\"enter the value of C\"))\n",
    "\n",
    "if a>c and a>b:\n",
    "    print(\"a is largest\")\n",
    "elif(b>c):\n",
    "    print(\"b is largest\")\n",
    "else:\n",
    "    print(\"c is largest\")"
   ]
  },
  {
   "attachments": {},
   "cell_type": "markdown",
   "metadata": {},
   "source": [
    "4. PROGRAM TO FIND TWO DICTIONARY"
   ]
  },
  {
   "cell_type": "code",
   "execution_count": 22,
   "metadata": {},
   "outputs": [
    {
     "name": "stdout",
     "output_type": "stream",
     "text": [
      "{1: 'hi', 2: 'python'}\n"
     ]
    }
   ],
   "source": [
    "dic1={1:'hi'}\n",
    "dic2={2:'python'}\n",
    "\n",
    "ans=({**dic1,**dic2})\n",
    "print(ans)\n"
   ]
  },
  {
   "attachments": {},
   "cell_type": "markdown",
   "metadata": {},
   "source": [
    "5. PROGRAM TO FIND THE ODD NUMBERS IN LIST"
   ]
  },
  {
   "cell_type": "code",
   "execution_count": 4,
   "metadata": {},
   "outputs": [
    {
     "name": "stdout",
     "output_type": "stream",
     "text": [
      "1\n",
      "5\n",
      "7\n"
     ]
    }
   ],
   "source": [
    "list1 = [1,4,6,5,7]\n",
    "for num in list1:\n",
    "\n",
    "    if num % 2 != 0:\n",
    "        print(num)"
   ]
  },
  {
   "attachments": {},
   "cell_type": "markdown",
   "metadata": {},
   "source": [
    "WRITE A PYTHON AND CREATE A CLASS NAMED EMPLOYEE WITH ATTRIBUTES NAME ,POSITION AND SALARY .WRITE A METHOD TO CALULATE THE ANNUAL SALARY OF THE EMPLOYEE"
   ]
  },
  {
   "cell_type": "code",
   "execution_count": 31,
   "metadata": {},
   "outputs": [
    {
     "name": "stdout",
     "output_type": "stream",
     "text": [
      "emp 144000\n"
     ]
    }
   ],
   "source": [
    "class employee():\n",
    "    name=\"\"\n",
    "    position=\"\"\n",
    "    salary=0\n",
    "    \n",
    "    def __init__(self,name,position,salary):\n",
    "        self.name=name\n",
    "        self.position=position\n",
    "        self.salary=salary\n",
    "        \n",
    "\n",
    "    def emp(self):\n",
    "        print(\"emp\",self.salary*12)\n",
    "\n",
    "obj=employee(\"samarth\",\"manager\",12000)\n",
    "obj.emp()\n",
    "\n"
   ]
  },
  {
   "attachments": {},
   "cell_type": "markdown",
   "metadata": {},
   "source": [
    "WRITE A PROGRAM THAT READS A CSV FILE AND EXTRACTS SPECIFIC COLUMNS FROM IT, ALSO HANDLES A FILE NOT FOUND ERROR AND PRINTS A CUSTOM ERROR MESSAGE "
   ]
  },
  {
   "cell_type": "code",
   "execution_count": 39,
   "metadata": {},
   "outputs": [
    {
     "name": "stdout",
     "output_type": "stream",
     "text": [
      "Anil\n"
     ]
    }
   ],
   "source": [
    "import csv\n",
    "try:\n",
    "\n",
    "    with open(\"C:/Users/User5/OneDrive/Desktop/csv.file/Student info list.csv\",\"r\") as file:\n",
    "    \n",
    "        data=csv.reader(file)\n",
    "        for line in data:\n",
    "            if line[1]==\"Anil\":\n",
    "                print(line[1])\n",
    "\t\n",
    "except FileNotFoundError:\n",
    "\t\tprint(\"Sorry ! the file is not found \")\n",
    "\n"
   ]
  },
  {
   "attachments": {},
   "cell_type": "markdown",
   "metadata": {},
   "source": [
    "WRITE A PROGRAM THAT USES A LAMBDA EXPRESSION TO SQUARE EACH ELEMENT IN A LIST"
   ]
  },
  {
   "cell_type": "code",
   "execution_count": 4,
   "metadata": {},
   "outputs": [
    {
     "name": "stdout",
     "output_type": "stream",
     "text": [
      "[1, 4, 9, 16, 25, 36, 49, 64, 81]\n"
     ]
    }
   ],
   "source": [
    "\n",
    "\n",
    "num=[1,2,3,4,5,6,7,8,9]\n",
    "squares=list(map(lambda x : x**2,num))\n",
    "print(squares)"
   ]
  },
  {
   "attachments": {},
   "cell_type": "markdown",
   "metadata": {},
   "source": [
    "WRITE A PROGRAM TO CONSTRUCTING A LIST OF EVEN NUMBERS FROM A LIST OF NUMBERS IN A CSV SHEET USING LIST COMPREHENSION"
   ]
  },
  {
   "cell_type": "code",
   "execution_count": 13,
   "metadata": {},
   "outputs": [
    {
     "name": "stdout",
     "output_type": "stream",
     "text": [
      "even 2\n",
      "even 4\n",
      "even 6\n",
      "even 8\n",
      "even 10\n",
      "even 12\n",
      "even 14\n",
      "even 16\n",
      "even 18\n",
      "even 20\n",
      "even 22\n",
      "even 24\n",
      "even 26\n",
      "even 28\n",
      "even 30\n"
     ]
    }
   ],
   "source": [
    "import csv \n",
    "with open(\"C:/Users/User5/OneDrive/Desktop/csv.file/EVEN.csv\",\"r\") as file:\n",
    "    data=csv.reader(file)\n",
    "    for line in data:\n",
    "        if int(line[0])%2==0:\n",
    "            print(\"even\",line[0])\n",
    "            # print(int(line[0]))\n",
    "        \n",
    "        "
   ]
  }
 ],
 "metadata": {
  "kernelspec": {
   "display_name": "Python 3",
   "language": "python",
   "name": "python3"
  },
  "language_info": {
   "codemirror_mode": {
    "name": "ipython",
    "version": 3
   },
   "file_extension": ".py",
   "mimetype": "text/x-python",
   "name": "python",
   "nbconvert_exporter": "python",
   "pygments_lexer": "ipython3",
   "version": "3.11.2"
  },
  "orig_nbformat": 4
 },
 "nbformat": 4,
 "nbformat_minor": 2
}
