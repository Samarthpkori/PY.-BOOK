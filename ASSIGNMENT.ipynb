{
 "cells": [
  {
   "attachments": {},
   "cell_type": "markdown",
   "metadata": {},
   "source": [
    "1) PYTHON PROGRAM TO ADD TWO NUMBERS"
   ]
  },
  {
   "cell_type": "code",
   "execution_count": 2,
   "metadata": {},
   "outputs": [
    {
     "name": "stdout",
     "output_type": "stream",
     "text": [
      "100\n"
     ]
    }
   ],
   "source": [
    "a=int(input(\"enter the value of a\"))\n",
    "b=int(input(\"enter the value of b\"))\n",
    "\n",
    "def math(a,b):\n",
    "    addition=(a+b)\n",
    "    return addition\n",
    "\n",
    "ans=math(a,b)\n",
    "print(ans)\n"
   ]
  },
  {
   "attachments": {},
   "cell_type": "markdown",
   "metadata": {},
   "source": [
    "2.PYTHON PROGRAM TO FIND THE SQUARE ROOT"
   ]
  },
  {
   "cell_type": "code",
   "execution_count": 1,
   "metadata": {},
   "outputs": [
    {
     "name": "stdout",
     "output_type": "stream",
     "text": [
      "100\n"
     ]
    }
   ],
   "source": [
    "a=int(input(\"enter the value of a\"))\n",
    "\n",
    "def math(a):\n",
    "    square=a*a\n",
    "    return square\n",
    "ans=math(a)\n",
    "print(ans)"
   ]
  },
  {
   "attachments": {},
   "cell_type": "markdown",
   "metadata": {},
   "source": [
    "3. PYTHON PROGRAM TO CALCULATE THE AREA OF A TRIANGLE"
   ]
  },
  {
   "cell_type": "code",
   "execution_count": 5,
   "metadata": {},
   "outputs": [
    {
     "name": "stdout",
     "output_type": "stream",
     "text": [
      "3.0\n"
     ]
    }
   ],
   "source": [
    "b=int(input(\"enter the value of base\"))\n",
    "h=int(input(\"enter the value of height\"))\n",
    "\n",
    "def function(b,h):\n",
    "    area=0.5*b*h\n",
    "    return area\n",
    "\n",
    "ans=function(b,h)\n",
    "print(ans)"
   ]
  },
  {
   "attachments": {},
   "cell_type": "markdown",
   "metadata": {},
   "source": [
    "4. PYTHON PROGRAM FOR SIMPLE INTEREST"
   ]
  },
  {
   "cell_type": "code",
   "execution_count": 3,
   "metadata": {},
   "outputs": [
    {
     "name": "stdout",
     "output_type": "stream",
     "text": [
      "4000.0\n"
     ]
    }
   ],
   "source": [
    "p=float(input(\"enter the value of principle\"))\n",
    "t=float(input(\"enter the value of time\"))\n",
    "r=float(input(\"enter the value of rate of interest\"))\n",
    "\n",
    "def math(p,t,r):\n",
    "    simple_interest=(p*t*r)/100\n",
    "    return simple_interest\n",
    "\n",
    "ans=math(p,t,r)\n",
    "print(ans)"
   ]
  },
  {
   "attachments": {},
   "cell_type": "markdown",
   "metadata": {},
   "source": [
    "5.PYTHON PROGRAM FOR COMPOUND INTEREST"
   ]
  },
  {
   "cell_type": "code",
   "execution_count": 3,
   "metadata": {},
   "outputs": [
    {
     "name": "stdout",
     "output_type": "stream",
     "text": [
      "420.00000000000045\n"
     ]
    }
   ],
   "source": [
    "p=int(input(\"enter the value of principle\"))\n",
    "t=int(input(\"enter the value of time\"))\n",
    "r=int(input(\"enter the value of rate of interest\"))\n",
    "\n",
    "def function(p,t,r):\n",
    "    a=p*(1+(r/100))**t\n",
    "    ci=a-p\n",
    "    return ci\n",
    "\n",
    "ans=function(p,t,r)\n",
    "print(ans)"
   ]
  },
  {
   "attachments": {},
   "cell_type": "markdown",
   "metadata": {},
   "source": [
    "6. PYTHON PROGRAM FOR PROGRAM TO FIND AREA OF A CIRCLE"
   ]
  },
  {
   "cell_type": "code",
   "execution_count": 2,
   "metadata": {},
   "outputs": [
    {
     "name": "stdout",
     "output_type": "stream",
     "text": [
      "78.55\n"
     ]
    }
   ],
   "source": [
    "r=float(input(\"enter the value of r\"))\n",
    "\n",
    "def area(r):\n",
    "    a=3.142*r*r\n",
    "    return a\n",
    "\n",
    "ans=area(r)\n",
    "print(ans)"
   ]
  },
  {
   "attachments": {},
   "cell_type": "markdown",
   "metadata": {},
   "source": [
    "7. PYTHON PROGRAM TO SWAP TWO VARIABLES"
   ]
  },
  {
   "cell_type": "code",
   "execution_count": 5,
   "metadata": {},
   "outputs": [
    {
     "name": "stdout",
     "output_type": "stream",
     "text": [
      "(2, 3)\n"
     ]
    }
   ],
   "source": [
    "a=int(input(\"enter the value of a\"))\n",
    "b=int(input(\"enter the value of b\"))\n",
    "\n",
    "def function(a,b):\n",
    "    swap=a,b=a,b\n",
    "    return swap\n",
    "\n",
    "ans=function(a,b)\n",
    "print(ans)\n"
   ]
  },
  {
   "attachments": {},
   "cell_type": "markdown",
   "metadata": {},
   "source": [
    "8. PYTHON PROGRAM TO GENERATE A RANDOM NUMBER"
   ]
  },
  {
   "cell_type": "code",
   "execution_count": 19,
   "metadata": {},
   "outputs": [
    {
     "name": "stdout",
     "output_type": "stream",
     "text": [
      "[38, 37, 8, 41, 18, 11, 5, 16, 46, 50]\n"
     ]
    }
   ],
   "source": [
    "import random\n",
    "rand_list=[]\n",
    "for i in range(0,10):\n",
    "    n=random.randint(1,50)\n",
    "    rand_list.append(n)\n",
    "print(rand_list)"
   ]
  },
  {
   "attachments": {},
   "cell_type": "markdown",
   "metadata": {},
   "source": [
    "9. PYTHON PROGRAM TO CONVERT KILOMETERS TO MILES"
   ]
  },
  {
   "cell_type": "code",
   "execution_count": 10,
   "metadata": {},
   "outputs": [
    {
     "name": "stdout",
     "output_type": "stream",
     "text": [
      "2.1747985\n"
     ]
    }
   ],
   "source": [
    "k=float(input('enter the kilometer'))\n",
    "def kilo(k):\n",
    "    kilometers=k*0.621371\n",
    "    return kilometers\n",
    "\n",
    "ans=kilo(k)\n",
    "print(ans)\n"
   ]
  },
  {
   "attachments": {},
   "cell_type": "markdown",
   "metadata": {},
   "source": [
    "10. PYTHON PROGRAM TO CHECK IF A NUMBER IS POSITIVE NEGATIVE OR 0"
   ]
  },
  {
   "cell_type": "code",
   "execution_count": 6,
   "metadata": {},
   "outputs": [
    {
     "name": "stdout",
     "output_type": "stream",
     "text": [
      "positive\n"
     ]
    }
   ],
   "source": [
    "num=int(input(\"enter the number\"))\n",
    "\n",
    "num=8\n",
    "if(num>0):\n",
    "    print(\"positive\")\n",
    "elif(num<0):\n",
    "    print(\"negative\")\n",
    "else:\n",
    "    print(\"0\")\n",
    "\n"
   ]
  },
  {
   "attachments": {},
   "cell_type": "markdown",
   "metadata": {},
   "source": [
    "11. PYTHON PROGRAM TO CHECK IF A NUMBER IS ODD OR EVEN"
   ]
  },
  {
   "cell_type": "code",
   "execution_count": 11,
   "metadata": {},
   "outputs": [
    {
     "name": "stdout",
     "output_type": "stream",
     "text": [
      "odd\n",
      "None\n"
     ]
    }
   ],
   "source": [
    "n=int(input(\"enter the value of n\"))\n",
    "\n",
    "def function(n):\n",
    "    if(n%2==0):\n",
    "        print(\"even\")\n",
    "    else:\n",
    "        print(\"odd\")\n",
    "\n",
    "ans=function(n)\n",
    "print(ans)"
   ]
  },
  {
   "attachments": {},
   "cell_type": "markdown",
   "metadata": {},
   "source": [
    "12. PYTHON PROGRAM TO FIND THE LARGEST AMONG THREE NUMBERS"
   ]
  },
  {
   "cell_type": "code",
   "execution_count": 6,
   "metadata": {},
   "outputs": [
    {
     "name": "stdout",
     "output_type": "stream",
     "text": [
      "c is largest number\n"
     ]
    }
   ],
   "source": [
    "a = int(input(\"Enter the value of a\"))\n",
    "b = int(input(\"Enter the value of b\"))\n",
    "c = int(input(\"Enter the value of c\"))\n",
    "\n",
    "\n",
    "if a > b and a > c :\n",
    "    print(\"a is largest number\")\n",
    "elif b > c :\n",
    "    print(\"b is largest number\")\n",
    "else :\n",
    "    print(\"c is largest number\")"
   ]
  },
  {
   "attachments": {},
   "cell_type": "markdown",
   "metadata": {},
   "source": [
    "13. PYTHON PROGRAM TO CHECK PRIME NUMBER "
   ]
  },
  {
   "cell_type": "code",
   "execution_count": 5,
   "metadata": {},
   "outputs": [
    {
     "name": "stdout",
     "output_type": "stream",
     "text": [
      "12 is not a prime number\n"
     ]
    }
   ],
   "source": [
    "num=int(input(\"enter the value of num\"))\n",
    "\n",
    "flag = False\n",
    "\n",
    "if num == 1:\n",
    "    print(num, \"is not a prime number\")\n",
    "elif num > 1:\n",
    "    for i in range(2, num):\n",
    "        if (num % i) == 0:\n",
    "            flag = True\n",
    "            break\n",
    "    if flag:\n",
    "        print(num, \"is not a prime number\")\n",
    "    else:\n",
    "        print(num, \"is a prime number\")"
   ]
  },
  {
   "attachments": {},
   "cell_type": "markdown",
   "metadata": {},
   "source": [
    "14. PYTHON PROGRAM TO PRINT ALL PRIME NUMBERS BETWEEN 1 TO 100"
   ]
  },
  {
   "cell_type": "code",
   "execution_count": 4,
   "metadata": {},
   "outputs": [
    {
     "name": "stdout",
     "output_type": "stream",
     "text": [
      " 2   3   5   7   11   13   17   19   23   29   31   37   41   43   47   53   59   61   67   71   73   79   83   89   97  "
     ]
    }
   ],
   "source": [
    "minimum = int(input(\" Please Enter the Minimum Value: \"))\n",
    "maximum = int(input(\" Please Enter the Maximum Value: \"))\n",
    "\n",
    "Number = minimum\n",
    "\n",
    "while(Number <= maximum):\n",
    "    count = 0\n",
    "    i = 2\n",
    "    \n",
    "    while(i <= Number//2):\n",
    "        if(Number % i == 0):\n",
    "            count = count + 1\n",
    "            break\n",
    "        i = i + 1\n",
    "\n",
    "    if (count == 0 and Number != 1):\n",
    "        print(\" %d\" %Number, end = '  ')\n",
    "    Number = Number  + 1"
   ]
  },
  {
   "attachments": {},
   "cell_type": "markdown",
   "metadata": {},
   "source": [
    "15. PYTHON PROGRAM TO FIND THE FACTORIAL OF A NUMBER"
   ]
  },
  {
   "cell_type": "code",
   "execution_count": 2,
   "metadata": {},
   "outputs": [
    {
     "name": "stdout",
     "output_type": "stream",
     "text": [
      "The factorial of 3 is 6\n"
     ]
    }
   ],
   "source": [
    "num=int(input(\"enter the no.:5\"))\n",
    "factorial=1\n",
    "if num < 0:\n",
    "    print(\" factorial does not exist for negative numbers\")\n",
    "elif num == 0:\n",
    "        print(\"The factorial of 0 is 1\")\n",
    "else:\n",
    "    for i in range(1,num + 1):\n",
    "        factorial = factorial*i\n",
    "    print(\"The factorial of\",num,\"is\",factorial)"
   ]
  },
  {
   "attachments": {},
   "cell_type": "markdown",
   "metadata": {},
   "source": [
    "16. PYTHON PROGRAM TO PRINT THE FIBONACCI SEQUENCE"
   ]
  },
  {
   "cell_type": "code",
   "execution_count": null,
   "metadata": {},
   "outputs": [],
   "source": [
    "def Fibonacci(n):\n",
    "\n",
    "\t\tfor  n in range(5): \n",
    "\t\t\tif n < 0:\n",
    "\t\t\t\tprint(\"Incorrect input\")\n",
    "\n",
    "\t\t\telif n == 0:\n",
    "\t\t\t\treturn 0\n",
    "\n",
    "\t\t\telif n == 1 or n == 2:\n",
    "\t\t\t\treturn 1\n",
    "\n",
    "\t\t\telse:\n",
    "\t\t\t\treturn Fibonacci(n-1) + Fibonacci(n-2)\n",
    "\n",
    "print(Fibonacci(9))"
   ]
  },
  {
   "attachments": {},
   "cell_type": "markdown",
   "metadata": {},
   "source": [
    "17. PYTHON PROGRAM TO FIND NUMBERS DIVISIBLE BY ANOTHER NUMBER"
   ]
  },
  {
   "cell_type": "code",
   "execution_count": 5,
   "metadata": {},
   "outputs": [
    {
     "name": "stdout",
     "output_type": "stream",
     "text": [
      "Numbers divisible by 13 are [12]\n"
     ]
    }
   ],
   "source": [
    "# list of numbers\n",
    "my_list = [12, 65, 54, 39, 102, 339, 221,]\n",
    "\n",
    "# anonymous function to filter\n",
    "result = list(filter(lambda x: (x % 12 == 0), my_list))\n",
    "\n",
    "# display the result\n",
    "print(\"Numbers divisible by 13 are\",result)"
   ]
  },
  {
   "attachments": {},
   "cell_type": "markdown",
   "metadata": {},
   "source": [
    "18. PYTHON PROGRAM TO CONVERT DECIMAL TO BINARY ,OCTAL AND HEXADECIMAL"
   ]
  },
  {
   "cell_type": "code",
   "execution_count": 7,
   "metadata": {},
   "outputs": [
    {
     "name": "stdout",
     "output_type": "stream",
     "text": [
      "0b10 in binary.\n",
      "0o2 in octal.\n",
      "0x2 in hexadecimal.\n",
      "None\n"
     ]
    }
   ],
   "source": [
    "decimal=int(input(\"enter the value of decimal\"))\n",
    "\n",
    "def function():\n",
    "    print(bin(decimal),\"in binary.\")\n",
    "    print(oct(decimal),\"in octal.\")\n",
    "    print(hex(decimal),\"in hexadecimal.\")\n",
    "ans=function()\n",
    "print(ans)"
   ]
  },
  {
   "attachments": {},
   "cell_type": "markdown",
   "metadata": {},
   "source": [
    "19. PYTHON PROGRAM TO FIND ASCII VALUE OF CHARACTER"
   ]
  },
  {
   "cell_type": "code",
   "execution_count": 1,
   "metadata": {},
   "outputs": [
    {
     "name": "stdout",
     "output_type": "stream",
     "text": [
      "The ASCII value of 'R' is 82\n"
     ]
    }
   ],
   "source": [
    "c=str(input(\"enter the alphabet\"))\n",
    "print(\"The ASCII value of '\" + c + \"' is\", ord(c))"
   ]
  },
  {
   "attachments": {},
   "cell_type": "markdown",
   "metadata": {},
   "source": [
    "20. PYTHON PROGRAM TO FIND THE FACTORS OF A NUMBER"
   ]
  },
  {
   "cell_type": "code",
   "execution_count": 2,
   "metadata": {},
   "outputs": [
    {
     "name": "stdout",
     "output_type": "stream",
     "text": [
      "The factors of 4 are:\n",
      "1\n",
      "2\n",
      "4\n"
     ]
    }
   ],
   "source": [
    "num=int(input(\"enter the value of num\"))\n",
    "\n",
    "def print_factors(x):\n",
    "   print(\"The factors of\",x,\"are:\")\n",
    "   for i in range(1, x + 1):\n",
    "       if x % i == 0:\n",
    "           print(i)\n",
    "\n",
    "\n",
    "\n",
    "print_factors(num)"
   ]
  },
  {
   "attachments": {},
   "cell_type": "markdown",
   "metadata": {},
   "source": [
    "21. PYTHON PROGRAM TO MAKE A SIMPLE CALCULATER"
   ]
  },
  {
   "cell_type": "code",
   "execution_count": 26,
   "metadata": {},
   "outputs": [
    {
     "name": "stdout",
     "output_type": "stream",
     "text": [
      "4\n",
      "0\n",
      "4\n",
      "1.0\n"
     ]
    }
   ],
   "source": [
    "x=int(input(\"enter the value x\"))\n",
    "y=int(input(\"enter the value y\"))\n",
    "a=int(input(\"enter the value a\"))\n",
    "b=int(input(\"enter the value b\"))\n",
    "r=int(input(\"enter the value r\"))\n",
    "s=int(input(\"enter the value s\"))\n",
    "p=int(input(\"enter the value p\"))\n",
    "q=int(input(\"enter the value q\"))\n",
    "\n",
    "def add(x, y):          #  adds two numbers\n",
    "    return x + y\n",
    "ans=add(x,y)\n",
    "print(ans)\n",
    "\n",
    "def subtract(a, b):          # subtracts two numbers\n",
    "    return a - b\n",
    "ans=subtract(a,b)\n",
    "print(ans)\n",
    "\n",
    "def multiply(r,s):          # multiplies two numbers\n",
    "    return r * s\n",
    "ans=multiply(r,s)\n",
    "print(ans)\n",
    "\n",
    "def divide(p, q):           #   divides two numbers\n",
    "    return p / q\n",
    "ans=divide(p,q)\n",
    "print(ans)\n"
   ]
  },
  {
   "attachments": {},
   "cell_type": "markdown",
   "metadata": {},
   "source": [
    "22. PYTHON PROGRAM TO ADD TWO MATRIX"
   ]
  },
  {
   "cell_type": "code",
   "execution_count": 2,
   "metadata": {},
   "outputs": [
    {
     "name": "stdout",
     "output_type": "stream",
     "text": [
      "[5, 7, 9]\n",
      "[7, 7, 7]\n",
      "[14, 16, 18]\n"
     ]
    }
   ],
   "source": [
    "m1=[[1,2,3],[4,5,6],[7,8,9]]\n",
    "m2=[[4,5,6],[3,2,1],[7,8,9]]\n",
    "ans=[[m1[i][j]+m2[i][j]  for j in range(len(m1[0]))]\n",
    "    for i in range(len(m1))]\n",
    "\n",
    "for r in ans:\n",
    "    print(r)"
   ]
  },
  {
   "attachments": {},
   "cell_type": "markdown",
   "metadata": {},
   "source": [
    "23. PYTHON PROGRAM TO TRANSPOSE THE MATRICES"
   ]
  },
  {
   "cell_type": "code",
   "execution_count": 8,
   "metadata": {},
   "outputs": [
    {
     "name": "stdout",
     "output_type": "stream",
     "text": [
      "Original Matrix:\n",
      "[1, 1, 1, 1]\n",
      "[2, 2, 2, 2]\n",
      "[3, 3, 3, 3]\n",
      "[4, 4, 4, 4]\n",
      "Transposed Matrix:\n",
      "[1, 2, 3, 4]\n",
      "[1, 2, 3, 4]\n",
      "[1, 2, 3, 4]\n",
      "[1, 2, 3, 4]\n"
     ]
    }
   ],
   "source": [
    "matrix = [[1, 1, 1, 1],\n",
    "\t\t[2, 2, 2, 2],\n",
    "\t\t[3, 3, 3, 3],\n",
    "\t\t[4, 4, 4, 4]]\n",
    "\n",
    "transpose = [list(row) for row in zip(*matrix)]\n",
    "\n",
    "print(\"Original Matrix:\")\n",
    "for row in matrix:\n",
    "\tprint(row)\n",
    "\n",
    "print(\"Transposed Matrix:\")\n",
    "for row in transpose:\n",
    "\tprint(row)\n"
   ]
  },
  {
   "attachments": {},
   "cell_type": "markdown",
   "metadata": {},
   "source": [
    "24. PYTHON PROGRAM TO MULTIPLY TWO MATRICES"
   ]
  },
  {
   "cell_type": "code",
   "execution_count": 9,
   "metadata": {},
   "outputs": [
    {
     "name": "stdout",
     "output_type": "stream",
     "text": [
      "Multiplied Matrix:\n",
      "[17, 26, 35, 44]\n",
      "[41, 62, 83, 104]\n",
      "[65, 98, 131, 164]\n"
     ]
    }
   ],
   "source": [
    "A = [[1,2,3],\n",
    "     [4,5,6],\n",
    "     [7,8,9]]\n",
    "# 3x4 matrix\n",
    "B = [[1,2,3,4],\n",
    "     [5,6,7,8],\n",
    "     [2,4,6,8]]\n",
    "# result is 3x4\n",
    "result = [[0,0,0,0],\n",
    "          [0,0,0,0],\n",
    "          [0,0,0,0]]\n",
    "\n",
    "# iterate through rows of Matrix A\n",
    "for i in range(len(A)):\n",
    "    # iterate through columns of Matrix B\n",
    "    for j in range(len(B[0])):\n",
    "        # iterate through rows of Matrix B\n",
    "        for k in range(len(B)):\n",
    "            result[i][j] += A[i][k] * B[k][j]\n",
    "\n",
    "print('Multiplied Matrix:')\n",
    "for r in result:\n",
    "    print(r)"
   ]
  },
  {
   "attachments": {},
   "cell_type": "markdown",
   "metadata": {},
   "source": [
    "25. PYTHON PROGRAM TO CHECK A STRING IS A PALINDROME OR NOT"
   ]
  },
  {
   "cell_type": "code",
   "execution_count": 1,
   "metadata": {},
   "outputs": [
    {
     "name": "stdout",
     "output_type": "stream",
     "text": [
      "Yes\n"
     ]
    }
   ],
   "source": [
    "\n",
    "\n",
    "x = \"141\"\n",
    "\n",
    "w = \"\"\n",
    "for i in x:\n",
    "\tw = i + w\n",
    "\n",
    "if (x == w):\n",
    "\tprint(\"Yes\")\n",
    "else:\n",
    "\tprint(\"No\")\n"
   ]
  },
  {
   "attachments": {},
   "cell_type": "markdown",
   "metadata": {},
   "source": [
    "27. PYTHON PROGRAM TO MERGE TWO DICTIONARIES"
   ]
  },
  {
   "cell_type": "code",
   "execution_count": 18,
   "metadata": {},
   "outputs": [
    {
     "name": "stdout",
     "output_type": "stream",
     "text": [
      "{1: 'HI', 2: 'NAMASTE', 3: 'KARNATAKA'}\n"
     ]
    }
   ],
   "source": [
    "dic1={1:'HI',2:'NAMASTE'}\n",
    "dic2={3:'KARNATAKA'}\n",
    "print({**dic1,**dic2})"
   ]
  },
  {
   "attachments": {},
   "cell_type": "markdown",
   "metadata": {},
   "source": [
    "28. PYTHON PROGRAM TO ACCESS INDEX OF A LIST USING FOR LOOP"
   ]
  },
  {
   "cell_type": "code",
   "execution_count": 20,
   "metadata": {},
   "outputs": [
    {
     "name": "stdout",
     "output_type": "stream",
     "text": [
      "0 4\n",
      "1 2\n",
      "2 6\n",
      "3 1\n",
      "4 9\n"
     ]
    }
   ],
   "source": [
    "list=[4,2,6,1,9]\n",
    "for index in range(len(list)):\n",
    "    val=list[index]\n",
    "    print(index,val)"
   ]
  },
  {
   "attachments": {},
   "cell_type": "markdown",
   "metadata": {},
   "source": [
    "29. PYTHON PROGRAM TO CONCATENATE TWO LISTS"
   ]
  },
  {
   "cell_type": "code",
   "execution_count": 19,
   "metadata": {},
   "outputs": [
    {
     "name": "stdout",
     "output_type": "stream",
     "text": [
      "Concatenated list using + : [1, 2, 3, 4, 5, 6, 7, 8, 9, 10]\n"
     ]
    }
   ],
   "source": [
    "test_list1 = [1, 2, 3, 4, 5]\n",
    "test_list2 = [6, 7, 8, 9,10]\n",
    "\n",
    "# using + operator to concat\n",
    "test_list1 = test_list1 + test_list2\n",
    "\n",
    "# Printing concatenated list\n",
    "print(\"Concatenated list using + : \"+ str(test_list1))"
   ]
  },
  {
   "attachments": {},
   "cell_type": "markdown",
   "metadata": {},
   "source": [
    "30. PYTHON PROGRAM TO GET THE LAST ELEMENT OF THE LIST"
   ]
  },
  {
   "cell_type": "code",
   "execution_count": 9,
   "metadata": {},
   "outputs": [
    {
     "name": "stdout",
     "output_type": "stream",
     "text": [
      "5\n"
     ]
    }
   ],
   "source": [
    "# initializing list\n",
    "my_list  = [1, 4, 5, 6, 3, 5]\n",
    "\n",
    "ele=my_list[-1]\n",
    "print(ele)"
   ]
  },
  {
   "attachments": {},
   "cell_type": "markdown",
   "metadata": {},
   "source": [
    "31. PYTHON PROGRAM TO RANDOMLY SELECT AN ELEMENT FROM THE LIST"
   ]
  },
  {
   "cell_type": "code",
   "execution_count": 10,
   "metadata": {},
   "outputs": [
    {
     "name": "stdout",
     "output_type": "stream",
     "text": [
      "[4, 2, 5, 7]\n"
     ]
    }
   ],
   "source": [
    "\n",
    "import random\n",
    "\n",
    "list=[4,3,5,7,8,1,2,9,0]\n",
    "n=4\n",
    "print(random.sample(list,n))"
   ]
  },
  {
   "attachments": {},
   "cell_type": "markdown",
   "metadata": {},
   "source": [
    "32. PYTHON PROGRAM TO PRINT ODD NUMBERS IN A LIST"
   ]
  },
  {
   "cell_type": "code",
   "execution_count": 21,
   "metadata": {},
   "outputs": [
    {
     "name": "stdout",
     "output_type": "stream",
     "text": [
      "21 45 93 "
     ]
    }
   ],
   "source": [
    "list1 = [10, 21, 4, 45, 66, 93]\n",
    "for num in list1:\n",
    "\n",
    "    if num % 2 != 0:\n",
    "       print(num, end=\" \")"
   ]
  },
  {
   "attachments": {},
   "cell_type": "markdown",
   "metadata": {},
   "source": [
    "33. PYTHON PROGRAM TO PRINT ALL EVEN NUMBERS IN A RANGE"
   ]
  },
  {
   "cell_type": "code",
   "execution_count": 13,
   "metadata": {},
   "outputs": [
    {
     "name": "stdout",
     "output_type": "stream",
     "text": [
      "0\n",
      "2\n",
      "4\n",
      "6\n",
      "8\n",
      "10\n",
      "12\n",
      "14\n"
     ]
    }
   ],
   "source": [
    "str_range=int(input(\"enter starting range\"))\n",
    "end_range=int(input(\"enter last range\"))\n",
    "for i in range(str_range,end_range+1):\n",
    "    if i%2==0:\n",
    "        \n",
    "        print(i)    "
   ]
  },
  {
   "attachments": {},
   "cell_type": "markdown",
   "metadata": {},
   "source": [
    "34. PYTHON PROGRAM TO FIND SUM OF ARRAY"
   ]
  },
  {
   "cell_type": "code",
   "execution_count": 21,
   "metadata": {},
   "outputs": [
    {
     "name": "stdout",
     "output_type": "stream",
     "text": [
      "sum of the array 80\n"
     ]
    }
   ],
   "source": [
    "def sum(arr):\n",
    "    sum=0\n",
    "    for i in arr:\n",
    "        sum=sum+i\n",
    "    return (sum)\n",
    "\n",
    "arr=[45,23,12]\n",
    "n=len(arr)\n",
    "ans=sum(arr)\n",
    "print(\"sum of the array\",ans)"
   ]
  },
  {
   "attachments": {},
   "cell_type": "markdown",
   "metadata": {},
   "source": [
    "37. PYTHON PROGRAM TO REVERSE A NUMBER"
   ]
  },
  {
   "cell_type": "code",
   "execution_count": 22,
   "metadata": {},
   "outputs": [
    {
     "name": "stdout",
     "output_type": "stream",
     "text": [
      "654321\n"
     ]
    }
   ],
   "source": [
    "num = 123456              #using slicing\n",
    "print(str(num)[::-1])"
   ]
  },
  {
   "attachments": {},
   "cell_type": "markdown",
   "metadata": {},
   "source": [
    "38. PYTHON PROGAM TO COMPUTE THE POWER OF THE NUMBER"
   ]
  },
  {
   "cell_type": "code",
   "execution_count": 1,
   "metadata": {},
   "outputs": [
    {
     "name": "stdout",
     "output_type": "stream",
     "text": [
      "125.0\n"
     ]
    }
   ],
   "source": [
    "import math\n",
    "num=int(input(\"enter any number\"))\n",
    "p=int(input(\"enter value power\"))\n",
    "ans=math.pow(num,p)\n",
    "print(ans)"
   ]
  },
  {
   "attachments": {},
   "cell_type": "markdown",
   "metadata": {},
   "source": [
    "39. PYTHON PROGRAM TO COUNT THE NUMBER OF DIGITS PRESENT IN A NUMBER"
   ]
  },
  {
   "cell_type": "code",
   "execution_count": 22,
   "metadata": {},
   "outputs": [
    {
     "name": "stdout",
     "output_type": "stream",
     "text": [
      "the number of digits in the number are 2\n"
     ]
    }
   ],
   "source": [
    "n=int(input(\"enter a number\"))\n",
    "count =0\n",
    "while(n>0):\n",
    "    count=count+1\n",
    "    n=n//10\n",
    "print(\"the number of digits in the number are\",count)"
   ]
  },
  {
   "attachments": {},
   "cell_type": "markdown",
   "metadata": {},
   "source": [
    "40. PYTHON PROGRAM TO REMOVE DUPLICATE ELEMENT FROM A LIST"
   ]
  },
  {
   "attachments": {},
   "cell_type": "markdown",
   "metadata": {},
   "source": [
    "41. PYTHON PROGRAM TO DISPLAY THE CALENDAR"
   ]
  },
  {
   "cell_type": "code",
   "execution_count": 17,
   "metadata": {},
   "outputs": [
    {
     "name": "stdout",
     "output_type": "stream",
     "text": [
      "    August 2023\n",
      "Mo Tu We Th Fr Sa Su\n",
      "    1  2  3  4  5  6\n",
      " 7  8  9 10 11 12 13\n",
      "14 15 16 17 18 19 20\n",
      "21 22 23 24 25 26 27\n",
      "28 29 30 31\n",
      "\n"
     ]
    }
   ],
   "source": [
    "import calendar\n",
    "year=int(input(\"enter year\"))\n",
    "month=int(input(\"enter month\"))\n",
    "print(calendar.month(year,month))"
   ]
  },
  {
   "attachments": {},
   "cell_type": "markdown",
   "metadata": {},
   "source": [
    "42. PYTHON PROGRAM TO FIND SUM OF ARRAY"
   ]
  },
  {
   "cell_type": "code",
   "execution_count": 16,
   "metadata": {},
   "outputs": [
    {
     "name": "stdout",
     "output_type": "stream",
     "text": [
      "sum of the array 80\n"
     ]
    }
   ],
   "source": [
    "def sum(arr):\n",
    "    sum=0\n",
    "    for i in arr:\n",
    "        sum=sum+i\n",
    "    return (sum)\n",
    "\n",
    "arr=[45,23,12]\n",
    "n=len(arr)\n",
    "ans=sum(arr)\n",
    "print(\"sum of the array\",ans)"
   ]
  },
  {
   "attachments": {},
   "cell_type": "markdown",
   "metadata": {},
   "source": [
    "48. PYTHON PROGRAM TO DELETES ALL ELEMENTS IN LIST"
   ]
  },
  {
   "cell_type": "code",
   "execution_count": 1,
   "metadata": {},
   "outputs": [
    {
     "name": "stdout",
     "output_type": "stream",
     "text": [
      "[]\n"
     ]
    }
   ],
   "source": [
    "# create a list\n",
    "ls = [1, 2, 3, 4, 5]\n",
    "# remove  the list elements\n",
    "ls.clear()\n",
    "print(ls)"
   ]
  },
  {
   "attachments": {},
   "cell_type": "markdown",
   "metadata": {},
   "source": [
    "50. PYTHON PROGRAM TO CALCULATE THE AVERAGE OF NUMBERS IN A GIVEN LIST"
   ]
  },
  {
   "cell_type": "code",
   "execution_count": null,
   "metadata": {},
   "outputs": [],
   "source": []
  }
 ],
 "metadata": {
  "kernelspec": {
   "display_name": "Python 3",
   "language": "python",
   "name": "python3"
  },
  "language_info": {
   "codemirror_mode": {
    "name": "ipython",
    "version": 3
   },
   "file_extension": ".py",
   "mimetype": "text/x-python",
   "name": "python",
   "nbconvert_exporter": "python",
   "pygments_lexer": "ipython3",
   "version": "3.11.2"
  },
  "orig_nbformat": 4
 },
 "nbformat": 4,
 "nbformat_minor": 2
}
