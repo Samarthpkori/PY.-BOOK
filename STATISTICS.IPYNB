{
 "cells": [
  {
   "attachments": {},
   "cell_type": "markdown",
   "metadata": {},
   "source": [
    "MEAN"
   ]
  },
  {
   "cell_type": "code",
   "execution_count": 2,
   "metadata": {},
   "outputs": [
    {
     "data": {
      "text/plain": [
       "2.5"
      ]
     },
     "execution_count": 2,
     "metadata": {},
     "output_type": "execute_result"
    }
   ],
   "source": [
    "import statistics as st\n",
    "\n",
    "list=[1,2,3,4]\n",
    "\n",
    "st.mean(list)"
   ]
  },
  {
   "attachments": {},
   "cell_type": "markdown",
   "metadata": {},
   "source": [
    "MEDIAN"
   ]
  },
  {
   "cell_type": "code",
   "execution_count": 1,
   "metadata": {},
   "outputs": [
    {
     "data": {
      "text/plain": [
       "2.5"
      ]
     },
     "execution_count": 1,
     "metadata": {},
     "output_type": "execute_result"
    }
   ],
   "source": [
    "import statistics as st\n",
    "\n",
    "list=[2,2,3,3]\n",
    "\n",
    "st.median(list)"
   ]
  },
  {
   "attachments": {},
   "cell_type": "markdown",
   "metadata": {},
   "source": [
    "MODE\n"
   ]
  },
  {
   "cell_type": "code",
   "execution_count": 3,
   "metadata": {},
   "outputs": [
    {
     "data": {
      "text/plain": [
       "3"
      ]
     },
     "execution_count": 3,
     "metadata": {},
     "output_type": "execute_result"
    }
   ],
   "source": [
    "import statistics as st\n",
    "\n",
    "list=[1,2,3,4,5,6,7,7,3]\n",
    "\n",
    "st.mode(list)"
   ]
  },
  {
   "attachments": {},
   "cell_type": "markdown",
   "metadata": {},
   "source": [
    "DATA EXTRACTING FROM CSV FILE BY STATISTICS PROGRAM"
   ]
  },
  {
   "cell_type": "code",
   "execution_count": 4,
   "metadata": {},
   "outputs": [
    {
     "name": "stdout",
     "output_type": "stream",
     "text": [
      "['ï»¿name', 'marks']\n",
      "['joel', '45']\n",
      "['samarth', '56']\n"
     ]
    }
   ],
   "source": [
    "import statistics as jo\n",
    "import csv\n",
    "\n",
    "with open(\"C:/Users/User5/OneDrive/Desktop/csv.file/Book1.csv\",\"r\") as file :\n",
    "    data=csv.reader(file)\n",
    "    for line in data:\n",
    "        print(line)\n"
   ]
  },
  {
   "cell_type": "code",
   "execution_count": 5,
   "metadata": {},
   "outputs": [
    {
     "name": "stdout",
     "output_type": "stream",
     "text": [
      "1.9148542155126762\n"
     ]
    }
   ],
   "source": [
    "import math\n",
    "print(math.sqrt(22/6))"
   ]
  },
  {
   "attachments": {},
   "cell_type": "markdown",
   "metadata": {},
   "source": [
    "STANDARD DEVIATION"
   ]
  },
  {
   "cell_type": "code",
   "execution_count": 6,
   "metadata": {},
   "outputs": [
    {
     "name": "stdout",
     "output_type": "stream",
     "text": [
      "x-Mu: 79.33333333333334\n",
      "Standard Deviation: 3.636237371545238\n"
     ]
    }
   ],
   "source": [
    "from math import sqrt \n",
    "# given data\n",
    "x=[-2,-1,1,4,6,8]\n",
    "N=len(x)\n",
    "Mu= sum(x)/N  # 4.4\n",
    "x_mu =0\n",
    "for i in x:\n",
    "    x_mu = x_mu +  (i-Mu)**2\n",
    "print(\"x-Mu:\",x_mu)  # 21.2\n",
    "    \n",
    "Sigma = sqrt( (x_mu)/N )\n",
    "print(\"Standard Deviation:\",Sigma)\n",
    "# 1.9148542155126762"
   ]
  }
 ],
 "metadata": {
  "kernelspec": {
   "display_name": "Python 3",
   "language": "python",
   "name": "python3"
  },
  "language_info": {
   "codemirror_mode": {
    "name": "ipython",
    "version": 3
   },
   "file_extension": ".py",
   "mimetype": "text/x-python",
   "name": "python",
   "nbconvert_exporter": "python",
   "pygments_lexer": "ipython3",
   "version": "3.11.2"
  },
  "orig_nbformat": 4
 },
 "nbformat": 4,
 "nbformat_minor": 2
}
